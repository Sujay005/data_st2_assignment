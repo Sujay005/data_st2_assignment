{
  "cells": [
    {
      "cell_type": "code",
      "execution_count": null,
      "metadata": {
        "colab": {
          "base_uri": "https://localhost:8080/"
        },
        "id": "_dLoEM1JxVqs",
        "outputId": "9198f212-cc88-4c72-c943-ce1b8a31e2ab"
      },
      "outputs": [
        {
          "name": "stdout",
          "output_type": "stream",
          "text": [
            "vaday ramuk yajuS\n"
          ]
        }
      ],
      "source": [
        "# 1. Write a code to reverse astring.\n",
        "str1 = \"Sujay kumar yadav\"\n",
        "reverse=str1[::-1]\n",
        "print(reverse)"
      ]
    },
    {
      "cell_type": "code",
      "execution_count": null,
      "metadata": {
        "id": "hEqGgUca0JrA"
      },
      "outputs": [],
      "source": []
    },
    {
      "cell_type": "code",
      "execution_count": null,
      "metadata": {
        "colab": {
          "base_uri": "https://localhost:8080/"
        },
        "id": "_K4INTlJx-cu",
        "outputId": "7475af30-03d5-4acc-cee2-0cec0bfd46fa"
      },
      "outputs": [
        {
          "name": "stdout",
          "output_type": "stream",
          "text": [
            "6\n"
          ]
        }
      ],
      "source": [
        "#2. Write a code to count the no of vowels in a string.\n",
        "str1 = \"Sujay kumar yadav\"\n",
        "count=0\n",
        "for i in str1:\n",
        "  if i in \"aeiouAEIOU\":\n",
        "    count+=1\n",
        "print(count)"
      ]
    },
    {
      "cell_type": "code",
      "execution_count": null,
      "metadata": {
        "id": "kLFhPppGzThQ"
      },
      "outputs": [],
      "source": []
    },
    {
      "cell_type": "code",
      "execution_count": null,
      "metadata": {
        "colab": {
          "base_uri": "https://localhost:8080/"
        },
        "id": "J4NobKfQ0MJG",
        "outputId": "4bcc27a6-7dee-4738-de43-2753bdf1fd0d"
      },
      "outputs": [
        {
          "name": "stdout",
          "output_type": "stream",
          "text": [
            "Enter a string:madam\n",
            "String is pallindrome\n"
          ]
        }
      ],
      "source": [
        "#3. Write a code to check if a given string is pallindrome or not.\n",
        "str1 = input('Enter a string:')\n",
        "revers = str1[::-1]\n",
        "if str1.lower() == revers.lower():\n",
        "  print('String is pallindrome')\n",
        "else:\n",
        "  print('String is not pallindrome')\n",
        "\n"
      ]
    },
    {
      "cell_type": "code",
      "execution_count": null,
      "metadata": {
        "id": "pNGaML6W1v1P"
      },
      "outputs": [],
      "source": []
    },
    {
      "cell_type": "code",
      "execution_count": null,
      "metadata": {
        "colab": {
          "base_uri": "https://localhost:8080/"
        },
        "id": "hVWAzfEU3Fln",
        "outputId": "fb0f7026-084c-4cd7-a2d6-58a04fce9a04"
      },
      "outputs": [
        {
          "name": "stdout",
          "output_type": "stream",
          "text": [
            "Listen and Silent are anagrams\n"
          ]
        }
      ],
      "source": [
        "#4. Write aprogramn to check if two given strings anagrams of each other\n",
        "str1 ='Listen'\n",
        "str2 = 'Silent'\n",
        "if sorted(str1.lower()) == sorted(str2.lower()):\n",
        "  print(f\"{str1} and {str2} are anagrams\")\n",
        "else:\n",
        "  print(f\"{str1} and {str2} are not anagrams\")\n",
        "\n"
      ]
    },
    {
      "cell_type": "code",
      "execution_count": null,
      "metadata": {
        "colab": {
          "base_uri": "https://localhost:8080/"
        },
        "id": "yKqHsylCChm3",
        "outputId": "ffd5e64f-b67b-4a05-f5aa-9e06f3ab8b06"
      },
      "outputs": [
        {
          "name": "stdout",
          "output_type": "stream",
          "text": [
            "[4, 13]\n"
          ]
        }
      ],
      "source": [
        "#5. Write a code to find all occurrences of a given substring in another string.\n",
        "main_str = 'Herewegotherewe'\n",
        "sub_str = 'we'\n",
        "occurrence=[]\n",
        "for i in range(len(main_str)-len(sub_str)+1):\n",
        "  if main_str[i:len(sub_str)+i] == sub_str:\n",
        "    occurrence.append(i)\n",
        "print(occurrence)"
      ]
    },
    {
      "cell_type": "code",
      "execution_count": null,
      "metadata": {
        "colab": {
          "base_uri": "https://localhost:8080/"
        },
        "id": "Nz1H2Ajlmj0G",
        "outputId": "1659061f-092e-41c1-cb8c-736ae0776d35"
      },
      "outputs": [
        {
          "name": "stdout",
          "output_type": "stream",
          "text": [
            "a3b4c4bc\n"
          ]
        }
      ],
      "source": [
        "#6.write a program to perform basic syting compression using counts of repeated characters.\n",
        "str1 = 'aaabbbbccccbc'\n",
        "new_str = ''\n",
        "i=0\n",
        "while i< len(str1):\n",
        "  new_str += str1[i]\n",
        "  count=1\n",
        "  i+=1\n",
        "  while(i<len(str1) and str1[i]==str1[i-1]):\n",
        "    count+=1\n",
        "    i+=1\n",
        "  if count>1:\n",
        "    new_str = new_str + str(count)\n",
        "\n",
        "print(new_str)"
      ]
    },
    {
      "cell_type": "code",
      "execution_count": null,
      "metadata": {
        "colab": {
          "base_uri": "https://localhost:8080/"
        },
        "id": "Fc4OLfG_pfJT",
        "outputId": "25d5967d-58a1-4ee9-ffff-4a66f9158d1f"
      },
      "outputs": [
        {
          "name": "stdout",
          "output_type": "stream",
          "text": [
            "String has all unique characters\n"
          ]
        }
      ],
      "source": [
        "#7. Write a code to determine if a string has all unique characters.\n",
        "test_str = 'uniqe'\n",
        "if len(test_str) == len(set(test_str)):\n",
        "  print('String has all unique characters')\n",
        "else:\n",
        "  print('String does not have all unique characters')\n",
        "\n"
      ]
    },
    {
      "cell_type": "code",
      "execution_count": null,
      "metadata": {
        "colab": {
          "base_uri": "https://localhost:8080/"
        },
        "id": "DvbNwWNPHMq9",
        "outputId": "266dcbab-1ac4-4e33-cdaf-857247678d8a"
      },
      "outputs": [
        {
          "name": "stdout",
          "output_type": "stream",
          "text": [
            "SUJAY\n",
            "sujay\n"
          ]
        }
      ],
      "source": [
        "#8. Write a code to convert a string to uppercase or lower case.\n",
        "str1 = 'sujay'\n",
        "print(str1.upper())\n",
        "print(str1.lower())"
      ]
    },
    {
      "cell_type": "code",
      "execution_count": null,
      "metadata": {
        "colab": {
          "base_uri": "https://localhost:8080/"
        },
        "id": "YBMpuYjSHwUs",
        "outputId": "b0d3b345-99e9-4ccd-b9e9-16a3d3e1f239"
      },
      "outputs": [
        {
          "name": "stdout",
          "output_type": "stream",
          "text": [
            "total no of words in above string is: 7\n"
          ]
        }
      ],
      "source": [
        "#9. write a code to count the total no of words in a given string.\n",
        "str2 = 'I am Sujay. i am learning python'\n",
        "num=str2.count(' ')\n",
        "print('total no of words in above string is:',num+1)"
      ]
    },
    {
      "cell_type": "code",
      "execution_count": null,
      "metadata": {
        "colab": {
          "base_uri": "https://localhost:8080/",
          "height": 36
        },
        "id": "Y46C0FHDJo5r",
        "outputId": "7660d3a6-496e-4f06-ee84-ae82979e7a44"
      },
      "outputs": [
        {
          "data": {
            "application/vnd.google.colaboratory.intrinsic+json": {
              "type": "string"
            },
            "text/plain": [
              "'sujay yadav'"
            ]
          },
          "execution_count": 2,
          "metadata": {},
          "output_type": "execute_result"
        }
      ],
      "source": [
        "#10. Write a code to concatenate two strings without using + operator.\n",
        "st1 = 'sujay'\n",
        "st2 = ' yadav'\n",
        "st3 = f\"{st1}{st2}\"\n",
        "st3"
      ]
    },
    {
      "cell_type": "code",
      "execution_count": null,
      "metadata": {
        "colab": {
          "base_uri": "https://localhost:8080/"
        },
        "id": "e0AqwjBogVMt",
        "outputId": "49d2983b-ba7a-4651-c853-11bdff914699"
      },
      "outputs": [
        {
          "data": {
            "text/plain": [
              "[1, 2, 3, 4, 5, 6]"
            ]
          },
          "execution_count": 7,
          "metadata": {},
          "output_type": "execute_result"
        }
      ],
      "source": [
        "#11. Write a code to remove all occurrences of aspecific element from a list.\n",
        "mylist=[1,2,3,'sujay',4,5,'sujay','sujay',6]\n",
        "element = 'sujay'\n",
        "i=0\n",
        "while i< len(mylist):\n",
        "  if mylist[i]==element:\n",
        "    mylist.pop(i)\n",
        "  else:\n",
        "    i+=1\n",
        "mylist\n"
      ]
    },
    {
      "cell_type": "code",
      "execution_count": null,
      "metadata": {
        "colab": {
          "base_uri": "https://localhost:8080/"
        },
        "id": "SO4-XWxGjGGE",
        "outputId": "ad3f6cf8-3baa-4ddd-9158-29e7336570b7"
      },
      "outputs": [
        {
          "data": {
            "text/plain": [
              "15"
            ]
          },
          "execution_count": 8,
          "metadata": {},
          "output_type": "execute_result"
        }
      ],
      "source": [
        "#12. Implement a code to find the second largest no. in a given list of integers.\n",
        "int_list =[6,7,4,9,15,22,14]\n",
        "int_list.sort()\n",
        "int_list[-2]"
      ]
    },
    {
      "cell_type": "code",
      "execution_count": null,
      "metadata": {
        "colab": {
          "base_uri": "https://localhost:8080/"
        },
        "id": "l438gJmhsYHW",
        "outputId": "8bd7f207-379e-4f28-87b8-543efcdc7da9"
      },
      "outputs": [
        {
          "data": {
            "text/plain": [
              "{'a': 2, 'b': 1, 'c': 2, 'd': 1}"
            ]
          },
          "execution_count": 10,
          "metadata": {},
          "output_type": "execute_result"
        }
      ],
      "source": [
        "#13. Create a code to count the occurrences of each element in a list and return a dictionary with counts as value and elements as key in the dictionary.\n",
        "my_list =['a','b','c','a','c','d']\n",
        "a_dic ={}\n",
        "for i in my_list:\n",
        "  if i in a_dic:\n",
        "    a_dic[i]+=1\n",
        "  else:\n",
        "    a_dic[i]=1\n",
        "a_dic\n"
      ]
    },
    {
      "cell_type": "code",
      "execution_count": null,
      "metadata": {
        "colab": {
          "base_uri": "https://localhost:8080/"
        },
        "id": "PQcCcVJI50sr",
        "outputId": "cee89602-d90e-48d4-c95f-590a9f191d8c"
      },
      "outputs": [
        {
          "data": {
            "text/plain": [
              "['d', 'c', 'a', 'c', 'b', 'a']"
            ]
          },
          "execution_count": 12,
          "metadata": {},
          "output_type": "execute_result"
        }
      ],
      "source": [
        "#14. Write a code to revese a list in-place without using any built-in function.\n",
        "my_list =['a','b','c','a','c','d']\n",
        "i= 0\n",
        "j = len(my_list)-1\n",
        "while i<j:\n",
        "  temp = my_list[i]\n",
        "  my_list[i] = my_list[j]\n",
        "  my_list[j] = temp\n",
        "  i+=1\n",
        "  j-=1\n",
        "my_list"
      ]
    },
    {
      "cell_type": "code",
      "execution_count": null,
      "metadata": {
        "colab": {
          "base_uri": "https://localhost:8080/"
        },
        "id": "fjJOFbzm8wAT",
        "outputId": "d1d05bd7-114d-4090-bf87-6628a0033318"
      },
      "outputs": [
        {
          "data": {
            "text/plain": [
              "['a', 'b', 'c', 'd']"
            ]
          },
          "execution_count": 5,
          "metadata": {},
          "output_type": "execute_result"
        }
      ],
      "source": [
        "#15. Implement a code to find and remove duplicates from a list while preserving the order of elements.\n",
        "m_list = ['a','b','c','a','c','d']\n",
        "my_set =set()\n",
        "i=0\n",
        "while i< len(m_list):\n",
        "  if m_list[i] in my_set:\n",
        "    m_list.pop(i)\n",
        "  else:\n",
        "    my_set.add(my_list[i])\n",
        "    i+=1\n",
        "m_list\n",
        "\n"
      ]
    },
    {
      "cell_type": "code",
      "execution_count": null,
      "metadata": {
        "colab": {
          "base_uri": "https://localhost:8080/"
        },
        "id": "wqRZ7wbm31mN",
        "outputId": "18a35f68-92de-411a-bd6b-b9c1aa5b9454"
      },
      "outputs": [
        {
          "name": "stdout",
          "output_type": "stream",
          "text": [
            "descending\n"
          ]
        }
      ],
      "source": [
        "#16. create a code to check if a given list is sorted (either ascending or descending ) or not.\n",
        "a_list =[8,6,5,3,2,1]\n",
        "boo = False\n",
        "for i in range(len(a_list)-1):\n",
        "  if a_list[i]<= a_list[1+1]:\n",
        "    continue\n",
        "  else:\n",
        "    if i>0:\n",
        "      print(\"not sorted\")\n",
        "      break\n",
        "    else:\n",
        "      boo = True\n",
        "      break\n",
        "else:\n",
        "  print('ascending')\n",
        "\n",
        "if boo == True:\n",
        "  for i in range(len(a_list)-1):\n",
        "    if a_list[i]>= a_list[i+1]:\n",
        "      continue\n",
        "    else:\n",
        "      print('not sorted')\n",
        "      break\n",
        "  else:\n",
        "    print('descending')\n",
        "\n"
      ]
    },
    {
      "cell_type": "code",
      "execution_count": null,
      "metadata": {
        "colab": {
          "base_uri": "https://localhost:8080/"
        },
        "id": "vWMuWdhqQIx7",
        "outputId": "0f6d8074-d250-4cce-f25d-44509c1f9760"
      },
      "outputs": [
        {
          "data": {
            "text/plain": [
              "[1, 2, 3, 4, 5, 5, 6, 7, 8, 9]"
            ]
          },
          "execution_count": 2,
          "metadata": {},
          "output_type": "execute_result"
        }
      ],
      "source": [
        "#17. Write a code to merge two sorted list into a single sorted list.\n",
        "list_1 =[2,4,5,7,9]\n",
        "list_2 =[1,3,5,6,8]\n",
        "sorted=[]\n",
        "i=0\n",
        "j=0\n",
        "\n",
        "while i<len(list_1) and j<len(list_2):\n",
        "  if list_1[i]<=list_2[j]:\n",
        "    sorted.append(list_1[i])\n",
        "    i+=1\n",
        "  else:\n",
        "    sorted.append(list_2[j])\n",
        "    j+=1\n",
        "\n",
        "while i<len(list_1):\n",
        "  sorted.append(list_1[i])\n",
        "  i+=1\n",
        "\n",
        "while j<len(list_2):\n",
        "  sorted.append(list_2[j])\n",
        "  j+=1\n",
        "\n",
        "sorted\n",
        "\n",
        "\n"
      ]
    },
    {
      "cell_type": "code",
      "execution_count": null,
      "metadata": {
        "colab": {
          "base_uri": "https://localhost:8080/"
        },
        "id": "2AP8RiPs0C2u",
        "outputId": "8fcdc989-1ac6-4dda-e0de-61e5eeb4f8f2"
      },
      "outputs": [
        {
          "data": {
            "text/plain": [
              "[5]"
            ]
          },
          "execution_count": 4,
          "metadata": {},
          "output_type": "execute_result"
        }
      ],
      "source": [
        "#18. Write a code to implement intersection of two given list.\n",
        "list_1 =[2,4,5,7,9]\n",
        "list_2 =[1,3,5,6,8]\n",
        "intersection = []\n",
        "for i in list_1:\n",
        "  if i in list_2:\n",
        "    intersection.append(i)\n",
        "    list_2.remove(i)\n",
        "intersection\n",
        "\n",
        "\n"
      ]
    },
    {
      "cell_type": "code",
      "execution_count": null,
      "metadata": {
        "colab": {
          "base_uri": "https://localhost:8080/"
        },
        "id": "aSXIYmgQ3H7d",
        "outputId": "df515acd-5400-4055-c7e9-96d1cddb3113"
      },
      "outputs": [
        {
          "data": {
            "text/plain": [
              "[2, 4, 5, 7, 3, 6, 9, 1, 8]"
            ]
          },
          "execution_count": 4,
          "metadata": {},
          "output_type": "execute_result"
        }
      ],
      "source": [
        "#19. Write a code to find the union of two lists without duplicates.\n",
        "l1 =[2,4,5,7,5,3,6,9]\n",
        "l2 =[1,3,5,6,4,5,8]\n",
        "un =[]\n",
        "for i in l1:\n",
        "  if i not in un:\n",
        "    un.append(i)\n",
        "\n",
        "for j in l2:\n",
        "  if j not in un:\n",
        "    un.append(j)\n",
        "un\n"
      ]
    },
    {
      "cell_type": "code",
      "execution_count": null,
      "metadata": {
        "colab": {
          "base_uri": "https://localhost:8080/"
        },
        "id": "UThWdYFNi1Pu",
        "outputId": "273edfa9-720d-4125-e8d5-93f52263fb1f"
      },
      "outputs": [
        {
          "data": {
            "text/plain": [
              "[5, 2, 4, 7, 3, 9, 5, 6]"
            ]
          },
          "execution_count": 8,
          "metadata": {},
          "output_type": "execute_result"
        }
      ],
      "source": [
        "#20. Write a code to shuffle a given list randomly without using any built in shuffle function.\n",
        "import random\n",
        "lst =[2,4,5,7,5,3,6,9]\n",
        "n = len(lst)\n",
        "for i in range(n-1,0,-1):\n",
        "  j = random.randint(0,i)\n",
        "  lst[i],lst[j] = lst[j],lst[i]\n",
        "lst"
      ]
    },
    {
      "cell_type": "code",
      "execution_count": null,
      "metadata": {
        "colab": {
          "base_uri": "https://localhost:8080/"
        },
        "id": "CEtVCaTy2YyW",
        "outputId": "5bd3e5c9-0b7a-4935-ec95-ee2a6ce6f264"
      },
      "outputs": [
        {
          "name": "stdout",
          "output_type": "stream",
          "text": [
            "enter tuple1:(3,4,7,5,9)\n",
            "enter tuple2:(3,5,2,6)\n",
            "(3, 5)\n"
          ]
        }
      ],
      "source": [
        "#21. write a code to two tuples as input and return a new tuple containing elements that are common to both input tuples.\n",
        "tup1 = eval(input(\"enter tuple1:\"))\n",
        "tup2 = eval(input(\"enter tuple2:\"))\n",
        "l = []\n",
        "for i in tup1 :\n",
        "  if i in tup2:\n",
        "    l.append(i)\n",
        "print(tuple(l))"
      ]
    },
    {
      "cell_type": "code",
      "execution_count": null,
      "metadata": {
        "colab": {
          "base_uri": "https://localhost:8080/"
        },
        "id": "Ia4k-faqAhMZ",
        "outputId": "bf2a497d-6096-4845-8bb2-b0441a2a4158"
      },
      "outputs": [
        {
          "name": "stdout",
          "output_type": "stream",
          "text": [
            "enter two sets of integers seperated by commas:{1,3,5,7,9},{1,2,3,4,5,6,7}\n",
            "{1, 3, 5, 7}\n"
          ]
        }
      ],
      "source": [
        "#22. Create a code that prompts the user to enter two sets of integer seperated by commas. Then print the intersection of these two sets.\n",
        "t = eval((input(\"enter two sets of integers seperated by commas:\")))\n",
        "print(t[0] & t[1])\n"
      ]
    },
    {
      "cell_type": "code",
      "execution_count": null,
      "metadata": {
        "colab": {
          "base_uri": "https://localhost:8080/"
        },
        "id": "v2RiY5ykC2FY",
        "outputId": "71a3b806-ea06-407b-e79f-c8717ead633c"
      },
      "outputs": [
        {
          "name": "stdout",
          "output_type": "stream",
          "text": [
            "enter tuple1:(1,2,3)\n",
            "enter tuple2:(5,6,7)\n"
          ]
        },
        {
          "data": {
            "text/plain": [
              "(1, 2, 3, 5, 6, 7)"
            ]
          },
          "execution_count": 12,
          "metadata": {},
          "output_type": "execute_result"
        }
      ],
      "source": [
        "#23. Write a code to cocatenate two tuples. The function should take two tuples as input and return a new tuple containing elements from both input tuples.\n",
        "t1 = eval(input(\"enter tuple1:\"))\n",
        "t2 = eval(input(\"enter tuple2:\"))\n",
        "t3 = t1 + t2\n",
        "t3"
      ]
    },
    {
      "cell_type": "code",
      "execution_count": null,
      "metadata": {
        "colab": {
          "base_uri": "https://localhost:8080/"
        },
        "id": "SUkTawRlIwYu",
        "outputId": "abbeafe8-9dcb-4e39-82f4-3d0136edb135"
      },
      "outputs": [
        {
          "name": "stdout",
          "output_type": "stream",
          "text": [
            "enter set1 of strings:{'sujay', 'ishika','ayush','piyush'}\n",
            "enter set2 of strings:{'ayush','piyush'}\n",
            "{'ishika', 'sujay'}\n"
          ]
        }
      ],
      "source": [
        "#24. Develop a code that promps the user to input two sets of strings. Then print the element that are present in first set but not in the second set.\n",
        "s1 = eval(input(\"enter set1 of strings:\"))\n",
        "s2 = eval(input(\"enter set2 of strings:\"))\n",
        "print(s1 - s2)"
      ]
    },
    {
      "cell_type": "code",
      "execution_count": null,
      "metadata": {
        "colab": {
          "base_uri": "https://localhost:8080/"
        },
        "id": "_Y-9RLpFKV1E",
        "outputId": "8769dc6a-6f9f-4b34-bb46-9303ea4e8be3"
      },
      "outputs": [
        {
          "name": "stdout",
          "output_type": "stream",
          "text": [
            "enter a tuple and two integers:(2,3,4,5,6,8,9),2,5\n"
          ]
        },
        {
          "data": {
            "text/plain": [
              "(4, 5, 6)"
            ]
          },
          "execution_count": 1,
          "metadata": {},
          "output_type": "execute_result"
        }
      ],
      "source": [
        "#25. Create a code that takes a tuple and two integers as input. The function should return a new tuple containing elements from original tuple within the specified range of indices.\n",
        "inpt = eval(input('enter a tuple and two integers:'))\n",
        "tup, start, end = inpt\n",
        "tup[start : end]"
      ]
    },
    {
      "cell_type": "code",
      "execution_count": null,
      "metadata": {
        "colab": {
          "base_uri": "https://localhost:8080/"
        },
        "id": "wK9XaVqBzh21",
        "outputId": "f6199087-74eb-49f8-8e83-ca1e4c7bd7ff"
      },
      "outputs": [
        {
          "name": "stdout",
          "output_type": "stream",
          "text": [
            "enter two sets of character:{'d','c','s','b'},{'g','s','b','k'}\n",
            "{'b', 's', 'g', 'k', 'd', 'c'}\n"
          ]
        }
      ],
      "source": [
        "#26. Write a code that prompts the user to input two set of character. Then print union of these two sets.\n",
        "inp =eval(input('enter two sets of character:'))\n",
        "s1, s2 = inp\n",
        "print(s1 | s2)"
      ]
    },
    {
      "cell_type": "code",
      "execution_count": null,
      "metadata": {
        "colab": {
          "base_uri": "https://localhost:8080/"
        },
        "id": "u5FeJRk01FGt",
        "outputId": "ef0de1f5-40d1-4510-8821-21829f328b0b"
      },
      "outputs": [
        {
          "name": "stdout",
          "output_type": "stream",
          "text": [
            "Enter a tuple of integers:(5,4,3,7,8,1)\n",
            "max value is 8 and min value is 1\n"
          ]
        }
      ],
      "source": [
        "#27. Develop a code that takes a tuple of integer as input. The function should return the maximum and minimum value from tule using the tuple unpacking.\n",
        "def max_min(input_tuple):\n",
        "  maxv ,minv = max(input_tuple), min(input_tuple)\n",
        "  return maxv, minv\n",
        "\n",
        "\n",
        "input_tuple = eval(input('Enter a tuple of integers:'))\n",
        "ans = max_min(input_tuple)\n",
        "print(f\"max value is {ans[0]} and min value is {ans[1]}\")\n",
        "\n"
      ]
    },
    {
      "cell_type": "code",
      "execution_count": null,
      "metadata": {
        "colab": {
          "base_uri": "https://localhost:8080/"
        },
        "id": "mHVeLSo4ZH90",
        "outputId": "98dbe6d4-affc-400c-d11d-a1ae3c709e25"
      },
      "outputs": [
        {
          "name": "stdout",
          "output_type": "stream",
          "text": [
            "union is {1, 2, 3, 4, 5, 6, 7, 8, 9}, intersection is {1}, difference is {8, 3, 5, 7}\n"
          ]
        }
      ],
      "source": [
        "#28. Create a code that definrs two sets of integer. then print the union, intersection and differnce of these two sets.\n",
        "\n",
        "set1 = {5,3,7,8,1}\n",
        "set2 = {9,4,1,2,6}\n",
        "uni ,inter, diff = set1 | set2, set1 & set2, set1 - set2\n",
        "print(f\"union is {uni}, intersection is {inter}, difference is {diff}\")"
      ]
    },
    {
      "cell_type": "code",
      "execution_count": null,
      "metadata": {
        "colab": {
          "base_uri": "https://localhost:8080/"
        },
        "id": "Ee9iwdYDdpbJ",
        "outputId": "0bedc1e8-92cc-41ca-926c-993415b84fe5"
      },
      "outputs": [
        {
          "name": "stdout",
          "output_type": "stream",
          "text": [
            "Enter a tuple:('f','d','s','g','d',)\n",
            "Enter the element to count:'d'\n",
            "Count of d present in ('f', 'd', 's', 'g', 'd') is 2\n"
          ]
        }
      ],
      "source": [
        "#29. Write a code that take a tuple and an element as input. The function should return the count of occurrences of the given element in the tuple.\n",
        "\n",
        "def count_element(a_tuple,element):\n",
        "  return a_tuple.count(element)\n",
        "\n",
        "input_tup = eval(input('Enter a tuple:'))\n",
        "input_elem =eval(input('Enter the element to count:'))\n",
        "c = count_element(input_tup,input_elem)\n",
        "print(f\"Count of {input_elem} present in {input_tup} is {c}\")\n"
      ]
    },
    {
      "cell_type": "code",
      "execution_count": null,
      "metadata": {
        "colab": {
          "base_uri": "https://localhost:8080/"
        },
        "id": "Zyq0zkwkiRxl",
        "outputId": "3df2d6d1-f4c2-4c60-bdab-2d1ddbeedfaa"
      },
      "outputs": [
        {
          "name": "stdout",
          "output_type": "stream",
          "text": [
            "Enter first set of String:{'sujay','ishika','hansika','kaka'}\n",
            "Enter second set of String:{'hansika','kaka','example'}\n",
            "symmetric difference of first and second set is {'sujay', 'example', 'ishika'}\n"
          ]
        }
      ],
      "source": [
        "#30. Write a code that prompts user to input two sets of strings. Then, print the symmetric difference of these two sets.\n",
        "input_set1 = eval(input(\"Enter first set of String:\"))\n",
        "input_set2 = eval(input(\"Enter second set of String:\"))\n",
        "print(\"symmetric difference of first and second set is\", input_set1 ^ input_set2)"
      ]
    },
    {
      "cell_type": "code",
      "execution_count": null,
      "metadata": {
        "colab": {
          "base_uri": "https://localhost:8080/"
        },
        "id": "80hiyS9Znd3n",
        "outputId": "619c19b3-1489-453f-f90c-d664d555f5cf"
      },
      "outputs": [
        {
          "name": "stdout",
          "output_type": "stream",
          "text": [
            "Enter a list of words:['sujay','ishika','hansika','ishika','sujay']\n"
          ]
        },
        {
          "data": {
            "text/plain": [
              "{'sujay': 2, 'ishika': 2, 'hansika': 1}"
            ]
          },
          "execution_count": 16,
          "metadata": {},
          "output_type": "execute_result"
        }
      ],
      "source": [
        "#31. Write a code that takes a list of words as input and returns a dictionary where keys are unique words and values are frequencies of those words in the input list.\n",
        "word_list = eval(input(\"Enter a list of words:\"))\n",
        "dic = {}\n",
        "for i in word_list :\n",
        "  if i in dic:\n",
        "    dic[i] += 1\n",
        "  else:\n",
        "    dic[i] = 1\n",
        "dic\n"
      ]
    },
    {
      "cell_type": "code",
      "execution_count": null,
      "metadata": {
        "colab": {
          "background_save": true,
          "base_uri": "https://localhost:8080/"
        },
        "id": "K7LHU_eB5TQy",
        "outputId": "00c048ec-3625-466f-d863-59e5fd570fd5"
      },
      "outputs": [
        {
          "data": {
            "text/plain": [
              "{1: 'x', 2: 'y', 3: ['z', 'g'], 6: 'd'}"
            ]
          },
          "execution_count": 4,
          "metadata": {},
          "output_type": "execute_result"
        }
      ],
      "source": [
        "#32. Write a code that takes two dictionaries as input and merges them into a single dictionary. If there are common keys, the value should be added together.\n",
        "dic1 = eval(input(\"Enter a dictionary:\"))\n",
        "dic2 = eval(input(\"Enter second dictionary:\"))\n",
        "dic3 = {}\n",
        "for key in dic1.keys():\n",
        "  if key in dic2.keys():\n",
        "    dic3[key] = [dic1[key], dic2[key]]\n",
        "    del dic2[key]\n",
        "  else:\n",
        "    dic3[key] = dic1[key]\n",
        "\n",
        "for key in dic2.keys():\n",
        "  dic3[key] = dic2[key]\n",
        "\n",
        "dic3"
      ]
    },
    {
      "cell_type": "code",
      "execution_count": 6,
      "metadata": {
        "id": "HIT66P34V6ZO",
        "colab": {
          "base_uri": "https://localhost:8080/"
        },
        "outputId": "afb1d0da-d4bb-4656-a3a1-ff65688a724d"
      },
      "outputs": [
        {
          "output_type": "execute_result",
          "data": {
            "text/plain": [
              "42"
            ]
          },
          "metadata": {},
          "execution_count": 6
        }
      ],
      "source": [
        "#33. Write a code to access value in a nested dictionary. The function should take the dictionary and list of keys as input , and return the corresponding values.\n",
        "#    If any of the keys do not exist in the dictionary, the function should return None.\n",
        "def getNestedValue(dic, keys):\n",
        "  current_value = dic\n",
        "  for key in keys:\n",
        "    if type(current_value) == dict and key in current_value:\n",
        "      current_value = current_value[key]\n",
        "    else:\n",
        "      return None\n",
        "  return current_value\n",
        "\n",
        "dic1 = {'a':{'b':{'c':42}}}\n",
        "lis = ['a','b','c']\n",
        "\n",
        "getNestedValue(dic1, lis)\n"
      ]
    },
    {
      "cell_type": "markdown",
      "source": [],
      "metadata": {
        "id": "cGbw-Y9Aho0a"
      }
    },
    {
      "cell_type": "code",
      "source": [
        "#34. Write a code that takes a dictionary as input and return sorted version of it based on the values. You can chose whether to sort in ascending or descending order.\n",
        "def sortDictOnValue(d):\n",
        "  sorted_item = sorted(d.items(), key= lambda x: x[1])\n",
        "  return dict(sorted_item)\n",
        "\n",
        "\n",
        "m_dict = {'apple': 5, 'banana': 2, 'cherry': 7, 'date': 1}\n",
        "sortDictOnValue(m_dict)\n",
        "\n"
      ],
      "metadata": {
        "colab": {
          "base_uri": "https://localhost:8080/"
        },
        "id": "HtqfL9h5ULMI",
        "outputId": "86541007-eb3a-437d-a5a7-108e609ee672"
      },
      "execution_count": 11,
      "outputs": [
        {
          "output_type": "execute_result",
          "data": {
            "text/plain": [
              "{'date': 1, 'banana': 2, 'apple': 5, 'cherry': 7}"
            ]
          },
          "metadata": {},
          "execution_count": 11
        }
      ]
    },
    {
      "cell_type": "code",
      "source": [
        "#35. Write a code that inverts a dictionary, swapping keys and values. Ensure that the inverted dictionary correctly handles cases where multiples keys have same value\n",
        "#    by storing the keys as a list in the inverted dictionary.\n",
        "def swapKeyValue(d):\n",
        "  new_dict = {}\n",
        "  for key, value in d.items():\n",
        "    if value in new_dict:\n",
        "      new_dict[value].append(key)\n",
        "    else:\n",
        "      new_dict[value] = [key]\n",
        "  return new_dict\n",
        "\n",
        "m_dict = {'a': 1, 'b': 2, 'c': 1, 'd': 3}\n",
        "swapKeyValue(m_dict)"
      ],
      "metadata": {
        "colab": {
          "base_uri": "https://localhost:8080/"
        },
        "id": "X2gcg__NeWmw",
        "outputId": "5332ca23-8106-4137-a867-e63b026a80e1"
      },
      "execution_count": 13,
      "outputs": [
        {
          "output_type": "execute_result",
          "data": {
            "text/plain": [
              "{1: ['a', 'c'], 2: ['b'], 3: ['d']}"
            ]
          },
          "metadata": {},
          "execution_count": 13
        }
      ]
    },
    {
      "cell_type": "code",
      "source": [],
      "metadata": {
        "id": "NsV_0p-vpIrm"
      },
      "execution_count": null,
      "outputs": []
    }
  ],
  "metadata": {
    "colab": {
      "provenance": []
    },
    "kernelspec": {
      "display_name": "Python 3",
      "name": "python3"
    },
    "language_info": {
      "name": "python"
    }
  },
  "nbformat": 4,
  "nbformat_minor": 0
}